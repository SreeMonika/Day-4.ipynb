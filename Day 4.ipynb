{
 "cells": [
  {
   "cell_type": "code",
   "execution_count": null,
   "id": "c27ff143",
   "metadata": {},
   "outputs": [],
   "source": [
    "var1,var2=100,200\n",
    "\n",
    "if var1 > var2:  #  > < >= <= == !=\n",
    "    print(f\"{var1} is greater\")\n",
    "else:\n",
    "    print(f\"{var2} is greater\")\n",
    "    \n",
    "print(\"max is \",max(var1,var2))"
   ]
  },
  {
   "cell_type": "code",
   "execution_count": null,
   "id": "2dc4cc54",
   "metadata": {},
   "outputs": [],
   "source": [
    "var1,var2,var3=100,200,300\n",
    "\n",
    "if var1 > var2 and var1 > var3:\n",
    "    print(f\"{var1} is greater\")\n",
    "elif var2 > var1 and var2 > var3:\n",
    "    print(f\"{var2} is greater\")\n",
    "else:\n",
    "    print(f\"{var3} is greater\")\n",
    "print(\"max is \",max(var1,var2,var3))"
   ]
  },
  {
   "cell_type": "code",
   "execution_count": null,
   "id": "2034fd29",
   "metadata": {},
   "outputs": [],
   "source": [
    "var1,var2,var3=100,200,300\n",
    "\n",
    "if var1 > var2 > var3: # operators can be chained in python!\n",
    "    print(f\"{var1} is greater\")\n",
    "elif var2 > var1 > var3:\n",
    "    print(f\"{var2} is greater\")\n",
    "elif var3 > var2 > var1:\n",
    "    print(f\"{var3} is greater\")\n",
    "    \n",
    "print(\"max is \",max(var1,var2,var3))"
   ]
  },
  {
   "cell_type": "code",
   "execution_count": null,
   "id": "12cba46b",
   "metadata": {},
   "outputs": [],
   "source": [
    "#any(collection) all(collection)\n",
    "\n",
    "if 10<20 and 30>10 and 500>100: # C style of writing code\n",
    "    print(\"and requires all conditions to be True\")\n",
    "if 50>200 or 5>10 or 500>100: # C style of writing code\n",
    "    print(\"or requires one conditions to be True atleast\")\n",
    "if all([10<20,30>10,500>100]): # pythonic way of writing code\n",
    "    print(\"and requires all conditions to be True\")\n",
    "if any({50>200,5>10,500>100}): # pythonic way of writing code\n",
    "    print(\"or requires one conditions to be True atleast\")"
   ]
  },
  {
   "cell_type": "code",
   "execution_count": null,
   "id": "bc2d8267",
   "metadata": {},
   "outputs": [],
   "source": [
    "check=[[],{},(),0,0.0,False,None,0]\n",
    "print(any(check))"
   ]
  },
  {
   "cell_type": "code",
   "execution_count": null,
   "id": "2b33c172",
   "metadata": {},
   "outputs": [],
   "source": [
    "var1,var2,var3=100,200,300\n",
    "\n",
    "if var1 > var2:\n",
    "    if var1 > var3:\n",
    "        print(f\"{var1} is greater\")\n",
    "    else:\n",
    "        print(f\"{var3} is greater\")\n",
    "else:\n",
    "    if var2 > var3:\n",
    "        print(f\"{var2} is greater\")\n",
    "    else:\n",
    "        print(f\"{var3} is greater\")"
   ]
  },
  {
   "cell_type": "code",
   "execution_count": null,
   "id": "0e4966c1",
   "metadata": {},
   "outputs": [],
   "source": [
    "# identity operators is & is not (check datatype of objects)\n",
    "# membership operators in and not in (contents of the object)\n",
    "\n",
    "employees=[\"arjun\",\"shivani\"]\n",
    "\n",
    "if type(employees) is list:\n",
    "    print(\"You are using list\")\n",
    "if type(employees) is not tuple:\n",
    "    print(\"you are not using tuple for sure!\")"
   ]
  },
  {
   "cell_type": "code",
   "execution_count": null,
   "id": "434acd5b",
   "metadata": {},
   "outputs": [],
   "source": [
    "python_version=[3.5,3.6,3.7,3.8,3.9,3.10]\n",
    "\n",
    "version=float(input(\"Please enter your version of python\"))\n",
    "\n",
    "if version in python_version:\n",
    "    print(f\"You can use f-strings in your version\")\n",
    "else:\n",
    "    print(f\"You can str.format() or C style of formatting\")"
   ]
  },
  {
   "cell_type": "code",
   "execution_count": null,
   "id": "c61710e5",
   "metadata": {},
   "outputs": [],
   "source": [
    "admin_users=[\"admin\",\"root\",\"Adminstrator\",\"devadatta\"]\n",
    "\n",
    "user=input(\"Please enter your username \")\n",
    "\n",
    "if user in admin_users:\n",
    "    print(\"Run admin commands!\")\n",
    "else:\n",
    "    print(\"you have guest privileges!\")"
   ]
  },
  {
   "cell_type": "code",
   "execution_count": null,
   "id": "2e8e414b",
   "metadata": {},
   "outputs": [],
   "source": [
    "import math\n",
    "\n",
    "# += -= *= /= %= arithmetic assingment operators\n",
    "# a+=10  == a=a+10\n",
    "\n",
    "fact=1\n",
    "num=int(input(\"Enter the number \"))\n",
    "while num > 0:\n",
    "    fact=fact*num\n",
    "    num-=1\n",
    "print(f\"Factorial is {fact}\")\n",
    "\n",
    "print(f\"Factorail is {math.factorial(5)}\")"
   ]
  },
  {
   "cell_type": "code",
   "execution_count": null,
   "id": "30c20c48",
   "metadata": {},
   "outputs": [],
   "source": [
    "import sympy\n",
    "\n",
    "i=2\n",
    "num=int(input(\"Enter the number \"))\n",
    "while num>i:\n",
    "    if num%i==0:\n",
    "        print(\"Not prime\")\n",
    "        break\n",
    "    i+=1\n",
    "if num==i:\n",
    "    print(\"Prime number\")\n",
    "    \n",
    "if sympy.isprime(num):\n",
    "    print(\"prime\")\n",
    "else:\n",
    "    print(\"Not prime\")"
   ]
  },
  {
   "cell_type": "code",
   "execution_count": null,
   "id": "eec3e496",
   "metadata": {},
   "outputs": [],
   "source": [
    "list1=[10,20,30,40,50]\n",
    "for item in list1:\n",
    "    print(item,end=\" \")\n",
    "    \n",
    "print(\" \")\n",
    "\n",
    "tuple1=(10,20,30,40,50)\n",
    "for item in tuple1:\n",
    "    print(item,end=\" \")\n",
    "    \n",
    "print(\" \")\n",
    "\n",
    "set1={10,20,30,40,50}\n",
    "for item in set1:\n",
    "    print(item,end=\" \")\n",
    "\n",
    "print(\" \")\n",
    "\n",
    "India={\n",
    "        \"tamilnadu\":\"chennai\",\"maharashtra\":\"mumbai\",\"karnataka\":\"bangalore\"\n",
    "      }\n",
    "\n",
    "for states in India:\n",
    "    print(states,end=\" \") # keys\n",
    "print(\" \")\n",
    "for states in India:\n",
    "    print(India[states],end=\" \") # values\n",
    "print(\" \")\n",
    "for states,capitals in India.items():\n",
    "    print(f'{capitals} is captial of {states}')"
   ]
  },
  {
   "cell_type": "code",
   "execution_count": null,
   "id": "fc6c1680",
   "metadata": {},
   "outputs": [],
   "source": [
    "print(range(10)) # range is a builtin generator in python\n",
    "#Note: There are 2 ways to access values from generator\n",
    "# either use for loops or use next() function!\n",
    "# Note: Every generator is iterable but every iterable is not generator\n",
    "# Note: Iterables are collections (list,tuple,set,dict,etc)\n",
    "# Note: Iterators are for loop next()"
   ]
  },
  {
   "cell_type": "code",
   "execution_count": null,
   "id": "a7e47f0d",
   "metadata": {},
   "outputs": [],
   "source": [
    "print(list(range(5)))"
   ]
  },
  {
   "cell_type": "code",
   "execution_count": null,
   "id": "1a395f3d",
   "metadata": {},
   "outputs": [],
   "source": [
    "list1=[10,20,30,40,50]\n",
    "\n",
    "for item in list1:\n",
    "    print(item,end=\" \")\n",
    "print(\" \")\n",
    "for item in range(10): # 0 1 2 ... 9 (10 is not included!)\n",
    "    print(item,end=\" \")\n",
    "print(\" \")\n",
    "for item in range(5,16): # 5,6,7... 15 (16 is not included!)\n",
    "    print(item,end=\" \")\n",
    "print(\" \")\n",
    "for item in range(10,101,10): # 10,20,30..100\n",
    "    print(item,end=\" \")\n",
    "print(\" \")\n",
    "for item in range(10,51,10):\n",
    "    print(item,end=\" \")"
   ]
  },
  {
   "cell_type": "code",
   "execution_count": null,
   "id": "d130d1b0",
   "metadata": {},
   "outputs": [],
   "source": [
    "ref=iter(range(10,16))\n",
    "print(next(ref))\n",
    "print(next(ref))\n",
    "print(next(ref))\n",
    "print(next(ref))\n",
    "print(next(ref))\n",
    "print(next(ref))\n",
    "print(next(ref)) # StopIteration Error if it goes out of bounds"
   ]
  },
  {
   "cell_type": "code",
   "execution_count": null,
   "id": "0b731c71",
   "metadata": {},
   "outputs": [],
   "source": [
    "print(dir(list))"
   ]
  },
  {
   "cell_type": "code",
   "execution_count": 6,
   "id": "bb6aa002",
   "metadata": {},
   "outputs": [
    {
     "name": "stdout",
     "output_type": "stream",
     "text": [
      "10 is @ 0 position\n",
      "20 is @ 1 position\n",
      "30 is @ 2 position\n",
      "40 is @ 3 position\n",
      "50 is @ 4 position\n",
      " \n",
      "0 10\n",
      "1 20\n",
      "2 30\n",
      "3 40\n",
      "4 50\n"
     ]
    }
   ],
   "source": [
    "list1=[10,20,30,40,50]\n",
    "\"\"\"\n",
    "count=0\n",
    "for item in list1:\n",
    "    if item==40:\n",
    "        break\n",
    "    count+=1\n",
    "print(f\"40 present @ {count+1} position\")\n",
    "\"\"\"\n",
    "\n",
    "for item in range(len(list1)): # 0 1 2 3 4\n",
    "    print(f\"{list1[item]} is @ {item} position\")\n",
    "    \n",
    "print(\" \")\n",
    "# use enumerate to get the position of the element in collection\n",
    "for position,value in enumerate(list1): # enumerate returns tuple(position,element)\n",
    "    print(position,value)"
   ]
  },
  {
   "cell_type": "code",
   "execution_count": 20,
   "id": "128abf49",
   "metadata": {},
   "outputs": [
    {
     "name": "stdout",
     "output_type": "stream",
     "text": [
      "10 20 30  \n",
      "40 50 60  \n",
      "70 80 90  \n",
      "list1[0][0]=10 list1[0][1]=20 list1[0][2]=30  \n",
      "list1[1][0]=40 list1[1][1]=50 list1[1][2]=60  \n",
      "list1[2][0]=70 list1[2][1]=80 list1[2][2]=90  \n"
     ]
    }
   ],
   "source": [
    "list1=[[10,20,30],[40,50,60],[70,80,90]]\n",
    "\n",
    "for rows in list1:\n",
    "    for items in rows:\n",
    "        print(items,end=\" \")\n",
    "    print(\" \")\n",
    "\n",
    "\n",
    "for i,rows in enumerate(list1):\n",
    "    for j,cols in enumerate(rows):\n",
    "        print(f\"list1[{i}][{j}]={cols}\",end=' ')\n",
    "    print(\" \")\n",
    "    "
   ]
  },
  {
   "cell_type": "code",
   "execution_count": 26,
   "id": "8b52fcad",
   "metadata": {},
   "outputs": [
    {
     "name": "stdout",
     "output_type": "stream",
     "text": [
      "[[10, 20, 30]]\n",
      "[10, 20, 30]\n",
      "10\n",
      "10\n",
      "20\n",
      "30\n",
      "40\n",
      "50\n",
      "60\n"
     ]
    }
   ],
   "source": [
    "list1=[[[10,20,30]],[[40,50,60]]]\n",
    "\n",
    "print(list1[0])\n",
    "print(list1[0][0])\n",
    "print(list1[0][0][0])\n",
    "\n",
    "for item1 in list1:\n",
    "    for item2 in item1:\n",
    "        for item3 in item2:\n",
    "            print(item3)"
   ]
  },
  {
   "cell_type": "code",
   "execution_count": 36,
   "id": "e62c87ae",
   "metadata": {},
   "outputs": [
    {
     "name": "stdout",
     "output_type": "stream",
     "text": [
      "{'hdfc': {'current': {'price': 10}}, 'olectra': {'current': {'price': 999}}}\n",
      "999\n",
      "999\n"
     ]
    }
   ],
   "source": [
    "dict1={\n",
    "        \"hdfc\":{\"current\":{\"price\":10}},\"olectra\":{\"current\":{\"price\":20}}\n",
    "    }\n",
    "dict1[\"olectra\"][\"current\"][\"price\"]=999\n",
    "print(dict1)\n",
    "#print(dict1[\"olectra\"][\"current\"][\"price\"])\n",
    "for item in dict1:\n",
    "    print(dict1['olectra']['current']['price'])"
   ]
  },
  {
   "cell_type": "code",
   "execution_count": null,
   "id": "0b99b8be",
   "metadata": {},
   "outputs": [],
   "source": []
  }
 ],
 "metadata": {
  "kernelspec": {
   "display_name": "Python 3 (ipykernel)",
   "language": "python",
   "name": "python3"
  },
  "language_info": {
   "codemirror_mode": {
    "name": "ipython",
    "version": 3
   },
   "file_extension": ".py",
   "mimetype": "text/x-python",
   "name": "python",
   "nbconvert_exporter": "python",
   "pygments_lexer": "ipython3",
   "version": "3.9.7"
  }
 },
 "nbformat": 4,
 "nbformat_minor": 5
}
