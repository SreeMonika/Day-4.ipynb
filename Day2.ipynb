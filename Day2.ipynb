{
 "cells": [
  {
   "cell_type": "code",
   "execution_count": null,
   "id": "fda0cc17",
   "metadata": {},
   "outputs": [],
   "source": [
    "x=10\n",
    "print(x,type(x),id(x))\n",
    "x+=1\n",
    "print(x,type(x),id(x))\n",
    "x=3.142\n",
    "print(x,type(x),id(x))\n",
    "x='A'\n",
    "print(x,type(x),id(x))\n",
    "x=\"vinsys\"\n",
    "print(x,type(x),id(x))\n",
    "x=10+5j\n",
    "print(x,type(x),id(x))\n",
    "x=False\n",
    "print(x,type(x),id(x))\n",
    "x=None\n",
    "print(x,type(x),id(x))"
   ]
  },
  {
   "cell_type": "code",
   "execution_count": null,
   "id": "34cc7750",
   "metadata": {},
   "outputs": [],
   "source": [
    "# 3 ways to do formatting in python\n",
    "\n",
    "player=\"sachin\"\n",
    "runs=100\n",
    "average=80.65\n",
    "print(\"player is \",player)\n",
    "print(\"runs is \",runs)\n",
    "print(\"average is \",average)\n",
    "# C style of formatting \n",
    "print(\"Player is %s\\nruns is %d\\naverage is %.3f\\n\"%(player,runs,average))\n",
    "# str.format()\n",
    "print(\"Player is {0} {0} {0}\\nruns is {1} {1} {1}\\naverage is {2} {0} {1}\\n\".format(player,runs,average))\n",
    "# f-string can be used on python 3.5 or higher\n",
    "print(f\"Player is {player}\\nRuns is {runs}\\nAverage is {average}\")"
   ]
  },
  {
   "cell_type": "code",
   "execution_count": null,
   "id": "8b9b70f8",
   "metadata": {},
   "outputs": [],
   "source": [
    "while True:\n",
    "    try:\n",
    "        var1=int(input(\"Enter first number\")) # one step conversion\n",
    "        var2=int(input(\"Enter second number\")) # two step conversionvar2=int(var2)\n",
    "    except ValueError as ex:\n",
    "        print(ex)\n",
    "        continue\n",
    "    except:\n",
    "        print(\"This is a generic except block!\")\n",
    "        continue\n",
    "    else:\n",
    "        print(f\"Addition of {type(var1)} and {type(var2)} is {type(var1+var2)}\")\n",
    "        print(f\"Addition of {var1} and {var2} is {var1+var2}\")\n",
    "        break\n",
    "    finally:\n",
    "        print(\"Finally will always be executed!\")"
   ]
  },
  {
   "cell_type": "code",
   "execution_count": null,
   "id": "7d846d99",
   "metadata": {},
   "outputs": [],
   "source": [
    "control statements\n",
    "- sequential\n",
    "- conditional\n",
    "    (a) selection (branching)\n",
    "        if: else: elif: \n",
    "    (b) iteration (looping)\n",
    "        while: for:\n",
    "- unconditional\n",
    "  continue, break"
   ]
  },
  {
   "cell_type": "code",
   "execution_count": null,
   "id": "f0624ee7",
   "metadata": {},
   "outputs": [],
   "source": [
    "var1=int(input(\"Enter first number\"))"
   ]
  },
  {
   "cell_type": "code",
   "execution_count": null,
   "id": "2052490a",
   "metadata": {},
   "outputs": [],
   "source": [
    "var1=float(input(\"Enter first number\")) # one step conversion\n",
    "\n",
    "var2=input(\"Enter second number\") # two step conversion\n",
    "var2=float(var2)\n",
    "\n",
    "print(f\"Addition of {type(var1)} and {type(var2)} is {type(var1+var2)}\")\n",
    "print(f\"Addition of {var1} and {var2} is {var1+var2}\")"
   ]
  },
  {
   "cell_type": "code",
   "execution_count": null,
   "id": "e274322f",
   "metadata": {},
   "outputs": [],
   "source": [
    "name=\"sachin\"\n",
    "jersey=10\n",
    "\n",
    "print(name+\"india\")\n",
    "print(name.__add__(\"india\"))\n",
    "print(name.__mul__(10))\n",
    "print(name*10)\n",
    "\n",
    "#print(name+str(jersey)+\"india\"+str(3.142))\n",
    "\n",
    "ip=\"192.168.10.1\"\n",
    "#print(int(ip))\n",
    "print(dir(str))"
   ]
  },
  {
   "cell_type": "code",
   "execution_count": null,
   "id": "8e1b4775",
   "metadata": {},
   "outputs": [],
   "source": [
    "print(10/3)\n",
    "print(10%3)\n",
    "print(10//3)\n",
    "print(2**15)"
   ]
  },
  {
   "cell_type": "code",
   "execution_count": null,
   "id": "c75fad8d",
   "metadata": {},
   "outputs": [],
   "source": [
    "var1=eval(input(\"Enter first number\")) # one step conversion\n",
    "\n",
    "var2=input(\"Enter second number\") # two step conversion\n",
    "var2=eval(var2)\n",
    "\n",
    "#print(f\"Addition of {type(var1)} and {type(var2)} is {type(var1+var2)}\")\n",
    "print(f\"Addition of {var1} and {var2} is {var1+var2}\")"
   ]
  },
  {
   "cell_type": "code",
   "execution_count": null,
   "id": "23ab23c0",
   "metadata": {},
   "outputs": [],
   "source": [
    "print(\"print \\\"double quotes\\\" within \\ndouble quotes\")\n",
    "print('print \"double quotes\" within \\ndouble quotes')\n",
    "print('print \\'single quotes\\' within\\nsingle quotes')\n",
    "print(\"print 'single quotes' within \\nsingle quotes\")\n",
    "# single line comment\n",
    "print(\"\"\"\n",
    "        triple quotes can have any number\n",
    "        of \"double quotes\" as well as\n",
    "        'single quotes'\n",
    "\"\"\")\n",
    "print('''\n",
    "        triple quotes can have any number\n",
    "        of \"double quotes\" as well as\n",
    "        'single quotes'\n",
    "''')"
   ]
  },
  {
   "cell_type": "code",
   "execution_count": null,
   "id": "2426fd18",
   "metadata": {},
   "outputs": [],
   "source": [
    "guideline1=\"How to write beautiful code in python\" \n",
    "print(guideline1)\n",
    "print(guideline1[:]) # start:next_to_last:step_count\n",
    "print(guideline1[::]) # Index slicing\n",
    "print(guideline1[0:])\n",
    "print(guideline1[0])\n",
    "print(guideline1[0:3])\n",
    "print(guideline1[7:12])\n",
    "print(guideline1[::2])\n",
    "print(guideline1[-1])\n",
    "print(guideline1[-6:])\n",
    "print(guideline1[::-1])\n",
    "print(len(guideline1),guideline1.__len__())"
   ]
  },
  {
   "cell_type": "code",
   "execution_count": null,
   "id": "0b511ea4",
   "metadata": {},
   "outputs": [],
   "source": [
    "print(dir(str))\n",
    "# CRUD \n",
    "# Create Read Update Delete"
   ]
  },
  {
   "cell_type": "code",
   "execution_count": null,
   "id": "62857af5",
   "metadata": {},
   "outputs": [],
   "source": [
    "check_str=\"Python Programming\"\n",
    "print(check_str.isupper())\n",
    "print(check_str.islower())\n",
    "print(check_str.isdigit())\n",
    "print(check_str.isalnum())\n",
    "print(check_str.isascii())\n",
    "print(check_str.isspace())\n",
    "print(check_str.istitle())\n",
    "print(check_str.isdigit())\n",
    "print(check_str.startswith('P'))\n",
    "print(check_str.endswith('g'))"
   ]
  },
  {
   "cell_type": "code",
   "execution_count": null,
   "id": "542af7ac",
   "metadata": {},
   "outputs": [],
   "source": [
    "help(str.startswith)"
   ]
  },
  {
   "cell_type": "code",
   "execution_count": null,
   "id": "b4ee3098",
   "metadata": {},
   "outputs": [],
   "source": [
    "principle=\"Now is better than Never\"\n",
    "print(principle.upper())\n",
    "#principle=principle.upper()\n",
    "print(principle)\n",
    "print(principle.lower())\n",
    "print(principle.capitalize())\n",
    "print(principle.casefold())\n",
    "print(principle.title())\n",
    "print(principle.swapcase())\n",
    "print(principle.center(100))\n",
    "print(principle.ljust(100))\n",
    "print(principle.rjust(100))"
   ]
  },
  {
   "cell_type": "code",
   "execution_count": null,
   "id": "0bacb126",
   "metadata": {},
   "outputs": [],
   "source": [
    "company=[\"v\",\"i\",\"n\",\"s\",\"y\",\"s\"]\n",
    "print(type(company))\n",
    "print(company)\n",
    "token=\"\"\n",
    "print(token.join(company)) # collection as a argument to join\n",
    "token=\":\"\n",
    "print(token.join(company))\n",
    "token=\",\"\n",
    "print(token.join(company))\n",
    "token=\"\\t\"\n",
    "print(token.join(company))"
   ]
  },
  {
   "cell_type": "code",
   "execution_count": null,
   "id": "5e240bfc",
   "metadata": {},
   "outputs": [],
   "source": [
    "fact1=\"python supports multiple assingments\"\n",
    "print(fact1.count(\"python\"))\n",
    "print(fact1.count('s'))\n",
    "print(fact1.count('s',10))\n",
    "print(fact1.index('p'))\n",
    "print(fact1.find('p'))\n",
    "print(fact1.index('h'))\n",
    "print(fact1.find('h'))\n",
    "#print(fact1.index(\"ansible\")) # ValueError: substring not found\n",
    "print(fact1.find('ansible')) # returns -1 is substring is not present"
   ]
  },
  {
   "cell_type": "code",
   "execution_count": null,
   "id": "1c1ec0f2",
   "metadata": {},
   "outputs": [],
   "source": [
    "email=\"devadatta@gmail.com\"\n",
    "print(type(email),type(email.split(\"@\")))\n",
    "email_address=email.split(\"@\")\n",
    "print(email_address)\n",
    "print(\"User name is \",email_address[0])\n",
    "print(\"Domain name is \",email_address[1])"
   ]
  },
  {
   "cell_type": "code",
   "execution_count": null,
   "id": "a6c4dc91",
   "metadata": {},
   "outputs": [],
   "source": [
    "date=\"5-6-2022\"\n",
    "parse_date=date.split(\"-\")\n",
    "print(type(parse_date),parse_date)\n",
    "dd=parse_date[0]\n",
    "mm=parse_date[1]\n",
    "yy=parse_date[2]\n",
    "print(dd,mm,yy)"
   ]
  },
  {
   "cell_type": "code",
   "execution_count": null,
   "id": "9711364e",
   "metadata": {},
   "outputs": [],
   "source": [
    "price=\"Rs 300.50/-\"\n",
    "my_price=float(price.strip(\"Rs\").strip(\"/-\"))\n",
    "if my_price < 500:\n",
    "    print(\"I will purchase it\")\n",
    "else:\n",
    "    print(\"I will wait!\")"
   ]
  },
  {
   "cell_type": "code",
   "execution_count": null,
   "id": "fa404ae6",
   "metadata": {},
   "outputs": [],
   "source": [
    "mystring=\"              python is beautiful python   \"\n",
    "mystring=mystring.strip(\" \")\n",
    "print(mystring)\n",
    "#mystring=mystring.strip(\"python\")\n",
    "#print(mystring)\n",
    "print(mystring.lstrip(\"python\"))\n",
    "print(mystring.rstrip(\"python\"))"
   ]
  },
  {
   "cell_type": "code",
   "execution_count": null,
   "id": "34d670d9",
   "metadata": {},
   "outputs": [],
   "source": [
    "price=\"Rs 10,000.99/-\"\n",
    "price=price.strip(\"Rs\").strip(\"/-\")\n",
    "print(type(float(price.replace(\",\",\"\"))))\n",
    "price=float(price.replace(\",\",\"\"))\n",
    "print(price)"
   ]
  },
  {
   "cell_type": "code",
   "execution_count": null,
   "id": "d7e92e58",
   "metadata": {},
   "outputs": [],
   "source": [
    "firstString = \"water\"\n",
    "secondString = \"fall\"\n",
    "thirdString = firstString + secondString\n",
    "print(thirdString)\n",
    "thirdString = f\"{firstString}{secondString}\"\n",
    "print(thirdString)"
   ]
  },
  {
   "cell_type": "code",
   "execution_count": null,
   "id": "3137db16",
   "metadata": {},
   "outputs": [],
   "source": [
    "name = input(\"What is your name? \")\n",
    "print(name)\n",
    "color = input(\"What is your favorite color?  \")\n",
    "animal = input(\"What is your favorite animal?  \")\n",
    "print(\"%s, you like a %s %s!\"%(name,color,animal))\n",
    "print(\"{0}, you like a {1} {2}!\".format(name,color,animal))\n",
    "print(f\"{name}, you like a {color} {animal}!\")"
   ]
  },
  {
   "cell_type": "code",
   "execution_count": null,
   "id": "72235e02",
   "metadata": {},
   "outputs": [],
   "source": [
    "# collections are datastructures / in memory databases\n",
    "# list [] tuple () set {} dict{key:value}\n",
    "# list is a collection of hetergeous elements "
   ]
  },
  {
   "cell_type": "code",
   "execution_count": null,
   "id": "767a7fd8",
   "metadata": {},
   "outputs": [],
   "source": [
    "string1=\"devadatta\"\n",
    "print(dir(string1))\n",
    "print(string1.__mul__(3))"
   ]
  },
  {
   "cell_type": "code",
   "execution_count": null,
   "id": "4dd74b3f",
   "metadata": {},
   "outputs": [],
   "source": [
    "players=[\"SAchiN\",\"VIRAT\",\"RoHit\"]\n",
    "\n",
    "players_lower=[]\n",
    "\n",
    "for each_player in players:\n",
    "    players_lower.append(each_player.lower())\n",
    "\n",
    "myplayer=input(\"Choose a player\")\n",
    "\n",
    "if myplayer.lower() in players_lower: \n",
    "    print(f\"You have selected {myplayer}\")\n",
    "else:\n",
    "    print(\"This player is not present\")"
   ]
  },
  {
   "cell_type": "code",
   "execution_count": null,
   "id": "660fe740",
   "metadata": {},
   "outputs": [],
   "source": [
    "mystring=\"python is easy\"\n",
    "print(mystring.replace(\"python\",\"ansible\"))\n",
    "print(mystring)"
   ]
  },
  {
   "cell_type": "code",
   "execution_count": null,
   "id": "9201e30f",
   "metadata": {},
   "outputs": [],
   "source": [
    "# collection list[] tuple() set{} dict{key:values}\n",
    "# list is hetergeous collection of elements which is mutable (It operates on the same memory location!)\n",
    "banks=[\"sbi\",\"axis\",\"idbi\",\"kotak\",\"bob\"]\n",
    "print(banks,type(banks),id(banks))\n",
    "#banks.sort(reverse=True)\n",
    "banks.sort()\n",
    "print(banks,type(banks),id(banks))\n",
    "banks.reverse()\n",
    "print(banks,type(banks),id(banks))\n",
    "banks.append(\"pnb\") # at the end\n",
    "banks.insert(0,\"yes bank\") # @ particular position\n",
    "banks.insert(3,\"oriental\")\n",
    "\n",
    "new_banks=[\"hdfc\",\"icici\",\"bandhan\"]\n",
    "#banks.extend(new_banks) # merge elements of one list into another list\n",
    "banks.append(new_banks) # list of list can be created\n",
    "\n",
    "#print(dir(banks))\n",
    "print(banks)\n",
    "\"\"\"\n",
    "print(\"First bank is \",banks[0])\n",
    "print(\"Last element of the list is \",banks[2:6])\n",
    "print(\"Last element of the list is \",banks[-1])\n",
    "print(\"Reverse the banks\",banks[::-1])\n",
    "print(\"Print every next banks\",banks[::2])\n",
    "print(banks[8][1]) # icici\n",
    "\"\"\""
   ]
  },
  {
   "cell_type": "code",
   "execution_count": null,
   "id": "8ef2a278",
   "metadata": {},
   "outputs": [],
   "source": [
    "print(dir(list))"
   ]
  },
  {
   "cell_type": "code",
   "execution_count": null,
   "id": "12575874",
   "metadata": {},
   "outputs": [],
   "source": [
    "banks=[\"sbi\",\"axis\",\"idbi\",\"kotak\",\"bob\",\"kotak\",\"kotak\"]\n",
    "\n",
    "print(banks)\n",
    "#print(banks.__str__())\n",
    "#print(banks.__repr__())\n",
    "\n",
    "#mybanks=banks # shallow copy \n",
    "\n",
    "#mybanks=banks.copy() # deep copy at a new memory location\n",
    "\n",
    "#mybanks.clear()\n",
    "\n",
    "banks.pop()\n",
    "print(\"Removed banks is\",banks.remove(\"axis\"))\n",
    "print(\"Poped bank is\",banks.pop(2))\n",
    "\n",
    "#print(mybanks,id(mybanks))\n",
    "print(banks,id(banks))\n",
    "\n",
    "#print(banks.count(\"kotak\"))\n",
    "#print(banks.index(\"kotak\"))\n",
    "#print(banks.index(\"kotak\",4))"
   ]
  },
  {
   "cell_type": "code",
   "execution_count": null,
   "id": "10ea67a9",
   "metadata": {},
   "outputs": [],
   "source": [
    "banks=(\"sbi\",\"axis\",\"idbi\",\"kotak\",\"bob\",\"kotak\",\"kotak\")\n",
    "\n",
    "#banks[0]=\"hdfc\" # TypeError: 'tuple' object does not support item assignment\n",
    "#del banks[2] # TypeError: 'tuple' object doesn't support item deletion\n",
    "\n",
    "\"\"\"\n",
    "print(\"First bank is \",banks[0])\n",
    "print(\"Last element of the list is \",banks[2:6])\n",
    "print(\"Last element of the list is \",banks[-1])\n",
    "print(\"Reverse the banks\",banks[::-1])\n",
    "print(\"Print every next banks\",banks[::2])\n",
    "print(banks.count(\"kotak\"))\n",
    "print(banks.index(\"kotak\",5))\n",
    "newbanks=banks\n",
    "print(newbanks)\n",
    "\"\"\"\n",
    "print(banks,type(banks))\n",
    "print(dir(banks))"
   ]
  },
  {
   "cell_type": "code",
   "execution_count": null,
   "id": "783affba",
   "metadata": {},
   "outputs": [],
   "source": [
    "print(dir(tuple))"
   ]
  },
  {
   "cell_type": "code",
   "execution_count": null,
   "id": "c89c6583",
   "metadata": {},
   "outputs": [],
   "source": [
    "nse=(\"olectra\",\"5-5-2022\",2000,850.50)\n",
    "#nse[0]=\"ibm\" # TypeError: 'tuple' object does not support item assignment\n",
    "#del nse[3] # TypeError: 'tuple' object doesn't support item deletion\n",
    "\n",
    "#print(nse[0],nse[1],nse[2],nse[3])\n",
    "\n",
    "for elements in nse:\n",
    "    print(elements)\n",
    "\n",
    "company,date,shares,price=nse # multiple variable assignment\n",
    "print(company,date,shares,price)"
   ]
  },
  {
   "cell_type": "code",
   "execution_count": null,
   "id": "635bafc0",
   "metadata": {},
   "outputs": [],
   "source": [
    "x=10 #int\n",
    "print(type(x))\n",
    "x=(10) #int\n",
    "print(type(x))\n",
    "x=(10,) # tuple with one element requires comma operator \n",
    "print(type(x))\n",
    "x=10,20,30 # tuple # whenever you use comma it becomes tuple\n",
    "print(type(x))\n",
    "x={}# dict\n",
    "print(type(x))\n",
    "x={10} # set\n",
    "print(type(x))\n",
    "x={10:\"sachin\"} # dict\n",
    "print(type(x))"
   ]
  },
  {
   "cell_type": "code",
   "execution_count": null,
   "id": "9d745fc5",
   "metadata": {},
   "outputs": [],
   "source": [
    "def foo():\n",
    "    return \"sachin\",10,\"india\",100,56.45\n",
    "\n",
    "player,jersey,country,runs,average=foo()\n",
    "print(player,jersey,country,runs,average)"
   ]
  },
  {
   "cell_type": "code",
   "execution_count": null,
   "id": "e6673167",
   "metadata": {},
   "outputs": [],
   "source": [
    "list1=[10,20,30]\n",
    "list2=[40,50,60]\n",
    "#list1.append(list2)\n",
    "list1.extend(list2)\n",
    "print(list1)\n",
    "\"\"\"\n",
    "print(list1[0])\n",
    "print(list1[3])\n",
    "print(list1[3][2])\n",
    "\"\"\"\n",
    "print(\" \")"
   ]
  },
  {
   "cell_type": "code",
   "execution_count": null,
   "id": "aac48fec",
   "metadata": {},
   "outputs": [],
   "source": [
    "print(dir(list))"
   ]
  },
  {
   "cell_type": "code",
   "execution_count": null,
   "id": "f41229d4",
   "metadata": {},
   "outputs": [],
   "source": [
    "# Note: list -> create, insert, update, delete\n",
    "# Note: tuple -> readonly\n",
    "# Note: list of lists -> all operations\n",
    "# Note: list of tuples -> insert delete\n",
    "# Note: tuple of tuples -> read only\n",
    "sensex=(\n",
    "            [\"accenture\",258.45,1000,\"5-5-2022\"],\n",
    "            (\"olectra\",345,2000,\"6-5-2022\"),\n",
    "            (\"sun pharma\",567,3000,\"7-5-2022\"),\n",
    "            (\"hdfc\",987,4000,\"8-5-2022\"),\n",
    "            (\"infosys\",111,5000,\"9-5-2022\")\n",
    "    )\n",
    "\n",
    "for items in sensex:\n",
    "    for everyelement in items:\n",
    "        print(everyelement)\n",
    "\n",
    "#print(type(sensex))\n",
    "#print(type(sensex[0]))\n",
    "#print(type(sensex[0][0]))\n",
    "\n",
    "#sensex[0][0]=\"ibm\"\n",
    "\n",
    "#sensex.append({\"sachin\":10,\"virat\":18})\n",
    "#print(sensex) # whole database\n",
    "\n",
    "#sensex[0][0]=\"capgemini\"\n",
    "\n",
    "#print(sensex[0]) # first record from database\n",
    "#print(sensex[-1]) # last record from database\n",
    "#print(\"Sun pharma price \",sensex[2][1])\n",
    "#print(\"Sun pharma number of shares \",sensex[2][2])\n",
    "#sensex[4][0]=\"wipro\"\n",
    "#print(sensex.append([\"renishaw\",222,7000,\"10-5-2022\"]))\n",
    "#print(sensex)\n",
    "#print(dir(tuple))"
   ]
  },
  {
   "cell_type": "code",
   "execution_count": null,
   "id": "3af609d3",
   "metadata": {},
   "outputs": [],
   "source": [
    "tuple1=(10,20,30)\n",
    "tuple2=(40,50,60)\n",
    "tuple3=tuple1+tuple2\n",
    "tuple3=tuple1.__add__(tuple2)\n",
    "print(tuple3)"
   ]
  },
  {
   "cell_type": "code",
   "execution_count": null,
   "id": "8f86547e",
   "metadata": {},
   "outputs": [],
   "source": [
    "cricketers={10:\"sachin\",18:\"virat\",17:\"abd\",\"dhoni\":7,\"gayle\":333}\n",
    "#print(cricketers)\n",
    "\n",
    "print(cricketers[\"dhoni\"])# value gets returns 7\n",
    "print(cricketers.get(\"dhoni\"))# value gets returns 7\n",
    "#print(cricketers[\"sehwag\"]) # keyerror\n",
    "#print(cricketers.get(\"sehwag\")) # Returns None if the key is not present\n",
    "\n",
    "cricketers[\"hardik\"]=228 # the key and value gets added in dict\n",
    "cricketers[17]=\"rohit\" # if the key already present then the value gets updated!\n",
    "print(cricketers)\n",
    "\n",
    "#print(cricketers.keys()) # list of keys\n",
    "#for keys in cricketers.keys():\n",
    "    #print(keys)\n",
    "    \n",
    "#print(cricketers.values()) # list of only values\n",
    "#for values in cricketers.values():\n",
    "   #print(values)\n",
    "\n",
    "print(cricketers.items()) # returns a list of tuples [(keys,values)]\n",
    "#dream_11=cricketers.copy() # deep copy new memory location\n",
    "#cricketers.clear() # clear the contents of dict\n",
    "\n",
    "for jersey,player in cricketers.items():\n",
    "    print(jersey,player)\n",
    "\n",
    "#print(dream_11)"
   ]
  },
  {
   "cell_type": "code",
   "execution_count": null,
   "id": "a47c1fad",
   "metadata": {},
   "outputs": [],
   "source": [
    "print(dir(dict))"
   ]
  },
  {
   "cell_type": "code",
   "execution_count": null,
   "id": "700b94b9",
   "metadata": {},
   "outputs": [],
   "source": [
    "jersey=[7,17,333,45,23]\n",
    "cricketers=dict.fromkeys(jersey)\n",
    "cricketers[7]=\"dhoni\"\n",
    "cricketers[17]=\"virat\"\n",
    "cricketers[333]=\"gayle\"\n",
    "cricketers[45]=\"rohit\"\n",
    "cricketers[23]=\"shane\"\n",
    "cricketers.setdefault(17,\"abd\")# This is ignored\n",
    "cricketers.setdefault(18,\"abd\")# This will be added\n",
    "print(cricketers)\n",
    "print(cricketers.pop(7)) # removes the key and value based on key and returns poped value \n",
    "print(cricketers.popitem())# This will remove the last item from dict returns a tuple \n",
    "print(cricketers)\n",
    "dream_11={800:\"murli\",99:\"sehwag\"}\n",
    "cricketers.update(dream_11)\n",
    "print(cricketers)"
   ]
  },
  {
   "cell_type": "code",
   "execution_count": null,
   "id": "a372e89e",
   "metadata": {},
   "outputs": [],
   "source": [
    "sensex={\n",
    "            \"hdfc\":{\"current\":1556.45,\"high\":2000,\"low\":1500},\n",
    "            \"olectra\":{\"current\":800.45,\"high\":1000,\"low\":700},\n",
    "            \"sun pharma\":{\"current\":2000,\"high\":1800,\"low\":1000},\n",
    "       }\n",
    "print(sensex)\n",
    "print(\"Data related to olectra\",sensex[\"olectra\"])\n",
    "sensex[\"sun pharma\"][\"current\"]=1500\n",
    "print(\"Todays price for sunpharma\",sensex[\"sun pharma\"][\"current\"])\n",
    "for companies,data in sensex.items():\n",
    "    print(f\"Price of {companies} is {data}\")"
   ]
  },
  {
   "cell_type": "code",
   "execution_count": null,
   "id": "75d8e88d",
   "metadata": {},
   "outputs": [],
   "source": [
    "print(dir(set))"
   ]
  },
  {
   "cell_type": "code",
   "execution_count": null,
   "id": "25f8eb4a",
   "metadata": {},
   "outputs": [],
   "source": [
    "# set is unordered mutable collection of unique hetergenous immutable elements\n",
    "\n",
    "companies={\"cognizant\",\"accenture\",\"capgemini\",\"wipro\",\"tcs\",\"wipro\",\"wipro\",10,3.142,True,None,10+5j,\n",
    "            (\"ibm\",\"5-5-2022\",1200,10000),\n",
    "          }\n",
    "companies.clear()\n",
    "#print(companies,id(companies))\n",
    "companies.add(\"infosys\")\n",
    "companies.add(\"ibm\")\n",
    "companies.add(\"tieto\")\n",
    "companies.remove(\"tieto\")\n",
    "companies.discard(\"bmc\")\n",
    "companies.discard(\"accenture\")\n",
    "print(companies)\n",
    "newcompanies={\"wipro\",\"tcs\",\"tata technologies\"}\n",
    "companies.update(newcompanies)\n",
    "print(\"Poped is \",companies.pop())\n",
    "print(companies,id(companies))"
   ]
  },
  {
   "cell_type": "code",
   "execution_count": null,
   "id": "fb6d6d55",
   "metadata": {},
   "outputs": [],
   "source": [
    "Indian={\"sachin\",\"sehwag\",\"virat\",\"rohit\",\"bumrah\"}\n",
    "WestIndies={\"lara\",\"gayle\",\"bravo\"}\n",
    "Australia={\"shane\",\"mcgrath\",\"gilly\"}\n",
    "Batsman={\"sachin\",\"sehwag\",\"virat\",\"rohit\",\"lara\",\"gayle\",\"gilly\" }\n",
    "Bowler={\"bumrah\",\"bravo\",\"shane\",\"mcgrath\"}\n",
    "Cricketers={ \"sachin\",\"sehwag\",\"virat\",\"rohit\",\"bumrah\",\"lara\",\"gayle\",\"bravo\",\"shane\",\"mcgrath\",\"gilly\"\n",
    "           }\n",
    "\n",
    "print(Indian.issubset(Cricketers))\n",
    "print(Cricketers.issuperset(Indian))\n",
    "print(Indian.isdisjoint(WestIndies))\n",
    "\n",
    "print(Indian.union(WestIndies).union(Australia)==Cricketers)\n",
    "print(Cricketers.intersection(Indian))\n",
    "print(\"Indian but not batsman\",Indian.difference(Batsman))\n",
    "print(\"Players which are not there in both sets\",Indian.symmetric_difference(Batsman))"
   ]
  },
  {
   "cell_type": "code",
   "execution_count": null,
   "id": "904ad2a6",
   "metadata": {},
   "outputs": [],
   "source": [
    "list1=[10,20,30]\n",
    "list2=[\"sachin\",\"sehwag\",\"virat\"]\n",
    "\"\"\"\n",
    "print(type(list2))\n",
    "list3=list1+list(list2)\n",
    "print(list3)\n",
    "print(dir(list1))\n",
    "\"\"\"\n",
    "list1.extend(list2)\n",
    "print(list1)"
   ]
  },
  {
   "cell_type": "code",
   "execution_count": null,
   "id": "565da1ab",
   "metadata": {},
   "outputs": [],
   "source": [
    "print(dir(dict))"
   ]
  },
  {
   "cell_type": "code",
   "execution_count": null,
   "id": "fd342dd8",
   "metadata": {},
   "outputs": [],
   "source": [
    "jersey,player,country=(10,\"sachin\",\"india\")\n",
    "print(jersey,player,country)"
   ]
  },
  {
   "cell_type": "code",
   "execution_count": null,
   "id": "5f7065f5",
   "metadata": {},
   "outputs": [],
   "source": [
    "list1=[10,\"sachin\",\"india\",\"gayle\",\"westindies\"]\n",
    "print(list1[-1])\n",
    "if \"australia\" in list1:\n",
    "    print(\"String is present\")\n",
    "else:\n",
    "    print(\"Not present\")\n",
    "    \n",
    "print(list1)"
   ]
  },
  {
   "cell_type": "code",
   "execution_count": null,
   "id": "5d505e13",
   "metadata": {},
   "outputs": [],
   "source": [
    "mydict={}\n",
    "print(type(mydict))"
   ]
  },
  {
   "cell_type": "code",
   "execution_count": null,
   "id": "084a368d",
   "metadata": {},
   "outputs": [],
   "source": [
    "list1=[1,20,10,20,10,20,30,40,50,50,50]\n",
    "print(list1)\n",
    "print(set(list1)) # converting your list into set \n",
    "\n",
    "set1={1,20,10,20,10,20,30,40,50,50,50}\n",
    "print(set1)"
   ]
  },
  {
   "cell_type": "code",
   "execution_count": null,
   "id": "393dca2c",
   "metadata": {},
   "outputs": [],
   "source": [
    "print(dir(set))"
   ]
  },
  {
   "cell_type": "code",
   "execution_count": null,
   "id": "361427d4",
   "metadata": {},
   "outputs": [],
   "source": [
    "ref=((10,20,30),(40,50,60),(70,80,90))\n",
    "\n",
    "for item in ref:\n",
    "    for everyitem in item:\n",
    "        print(everyitem)\n",
    "        \n",
    "print(ref[0][0],ref[0][1])"
   ]
  },
  {
   "cell_type": "code",
   "execution_count": null,
   "id": "0330bf1d",
   "metadata": {},
   "outputs": [],
   "source": [
    "players={10:\"sachin\",7:\"dhoni\",18:\"virat\"}\n",
    "\n",
    "print(players)\n",
    "for jersey in players: # only keys\n",
    "    print(jersey)\n",
    "for jersey in players: # only values\n",
    "    print(players[jersey])  \n",
    "    \n",
    "for jersey,player in players.items():\n",
    "    print(f\"{player} has {jersey} number\")"
   ]
  },
  {
   "cell_type": "code",
   "execution_count": null,
   "id": "d71f53c4",
   "metadata": {},
   "outputs": [],
   "source": [
    "all_players=(\"sachin\",\"sehwag\",\"rohit\",\"virat\")\n",
    "playing=[\"virat\",\"rohit\",\"bumrah\",\"hardik\"]\n",
    "\n",
    "common_players=[]\n",
    "\n",
    "for every_player in all_players:\n",
    "    if every_player in playing:\n",
    "        common_players.append(every_player)\n",
    "\n",
    "print(common_players)"
   ]
  },
  {
   "cell_type": "code",
   "execution_count": null,
   "id": "ecadc92e",
   "metadata": {},
   "outputs": [],
   "source": [
    "all_players={\"sachin\",\"sehwag\",\"virat\",\"rohit\",\"rohit\",\"rohit\"}\n",
    "all_players.add(\"sachin\")\n",
    "all_players.add(\"sachin\")\n",
    "all_players.add(\"sachin\")\n",
    "playing={\"virat\",\"rohit\",\"bumrah\",\"hardik\"}\n",
    "print(all_players)\n",
    "print(all_players.intersection(playing))"
   ]
  },
  {
   "cell_type": "code",
   "execution_count": null,
   "id": "ce6d0253",
   "metadata": {},
   "outputs": [],
   "source": []
  }
 ],
 "metadata": {
  "kernelspec": {
   "display_name": "Python 3 (ipykernel)",
   "language": "python",
   "name": "python3"
  },
  "language_info": {
   "codemirror_mode": {
    "name": "ipython",
    "version": 3
   },
   "file_extension": ".py",
   "mimetype": "text/x-python",
   "name": "python",
   "nbconvert_exporter": "python",
   "pygments_lexer": "ipython3",
   "version": "3.9.7"
  }
 },
 "nbformat": 4,
 "nbformat_minor": 5
}
