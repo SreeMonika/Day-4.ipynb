{
 "cells": [
  {
   "cell_type": "code",
   "execution_count": 1,
   "id": "e5576a84",
   "metadata": {},
   "outputs": [
    {
     "name": "stdout",
     "output_type": "stream",
     "text": [
      "45 is of the data type <class 'int'>\n",
      "290578 is of the data type <class 'int'>\n",
      "1.02 is of the data type <class 'float'>\n",
      "True is of the data type <class 'bool'>\n",
      "My dog is on the bed. is of the data type <class 'str'>\n",
      "45 is of the data type <class 'str'>\n"
     ]
    }
   ],
   "source": [
    "myMixedTypeList = [45, 290578, 1.02, True, \"My dog is on the bed.\", \"45\"]\n",
    "for item in myMixedTypeList:\n",
    "    print(\"{} is of the data type {}\".format(item,type(item)))"
   ]
  },
  {
   "cell_type": "code",
   "execution_count": 6,
   "id": "57cef485",
   "metadata": {},
   "outputs": [
    {
     "name": "stdout",
     "output_type": "stream",
     "text": [
      "vin : <empty>\n",
      "make : <empty>\n",
      "model : <empty>\n",
      "year : 0\n",
      "range : 0\n",
      "topSpeed : 0\n",
      "zeroSixty : 0.0\n",
      "mileage : 0\n",
      "Column names are: vin, make, model, year, range, topSpeed, zeroSixty, mileage\n",
      "vin: TMX20122 make: AnyCompany Motors, model:  Coupe, year:  2012, range:  335, topSpeed:  155, zeroSixty:  4.1, mileage:  50000\n",
      "vin: TM320163 make: AnyCompany Motors, model:  Sedan, year:  2016, range:  240, topSpeed:  140, zeroSixty:  5.2, mileage:  20000\n",
      "vin: TMX20121 make: AnyCompany Motors, model:  SUV, year:  2012, range:  295, topSpeed:  155, zeroSixty:  4.7, mileage:  100000\n",
      "vin: TMX20204 make: AnyCompany Motors, model:  Truck, year:  2020, range:  300, topSpeed:  155, zeroSixty:  3.5, mileage:  0\n",
      "Processed 5 lines.\n",
      "vin : TMX20122\n",
      "-----\n",
      "make : AnyCompany Motors\n",
      "-----\n",
      "model :  Coupe\n",
      "-----\n",
      "year :  2012\n",
      "-----\n",
      "range :  335\n",
      "-----\n",
      "topSpeed :  155\n",
      "-----\n",
      "zeroSixty :  4.1\n",
      "-----\n",
      "mileage :  50000\n",
      "-----\n",
      "vin : TM320163\n",
      "-----\n",
      "make : AnyCompany Motors\n",
      "-----\n",
      "model :  Sedan\n",
      "-----\n",
      "year :  2016\n",
      "-----\n",
      "range :  240\n",
      "-----\n",
      "topSpeed :  140\n",
      "-----\n",
      "zeroSixty :  5.2\n",
      "-----\n",
      "mileage :  20000\n",
      "-----\n",
      "vin : TMX20121\n",
      "-----\n",
      "make : AnyCompany Motors\n",
      "-----\n",
      "model :  SUV\n",
      "-----\n",
      "year :  2012\n",
      "-----\n",
      "range :  295\n",
      "-----\n",
      "topSpeed :  155\n",
      "-----\n",
      "zeroSixty :  4.7\n",
      "-----\n",
      "mileage :  100000\n",
      "-----\n",
      "vin : TMX20204\n",
      "-----\n",
      "make : AnyCompany Motors\n",
      "-----\n",
      "model :  Truck\n",
      "-----\n",
      "year :  2020\n",
      "-----\n",
      "range :  300\n",
      "-----\n",
      "topSpeed :  155\n",
      "-----\n",
      "zeroSixty :  3.5\n",
      "-----\n",
      "mileage :  0\n",
      "-----\n"
     ]
    }
   ],
   "source": [
    "import csv\n",
    "import copy\n",
    "\n",
    "myVehicle = {\n",
    "    \"vin\" : \"<empty>\",\n",
    "    \"make\" : \"<empty>\" ,\n",
    "    \"model\" : \"<empty>\" ,\n",
    "    \"year\" : 0,\n",
    "    \"range\" : 0,\n",
    "    \"topSpeed\" : 0,\n",
    "    \"zeroSixty\" : 0.0,\n",
    "    \"mileage\" : 0\n",
    "}\n",
    "\n",
    "for key, value in myVehicle.items():\n",
    "    print(\"{} : {}\".format(key,value))\n",
    "    \n",
    "myInventoryList = []\n",
    "\n",
    "with open('car_fleet.csv') as csvFile:\n",
    "    csvReader = csv.reader(csvFile, delimiter=',')  \n",
    "    lineCount = 0  \n",
    "    for row in csvReader:\n",
    "        if lineCount == 0:\n",
    "            print(f'Column names are: {\", \".join(row)}')  \n",
    "            lineCount += 1  \n",
    "        else:  \n",
    "            print(f'vin: {row[0]} make: {row[1]}, model: {row[2]}, year: {row[3]}, range: {row[4]}, topSpeed: {row[5]}, zeroSixty: {row[6]}, mileage: {row[7]}')  \n",
    "            currentVehicle = copy.deepcopy(myVehicle)  \n",
    "            currentVehicle[\"vin\"] = row[0]  \n",
    "            currentVehicle[\"make\"] = row[1]  \n",
    "            currentVehicle[\"model\"] = row[2]  \n",
    "            currentVehicle[\"year\"] = row[3]  \n",
    "            currentVehicle[\"range\"] = row[4]  \n",
    "            currentVehicle[\"topSpeed\"] = row[5]  \n",
    "            currentVehicle[\"zeroSixty\"] = row[6]  \n",
    "            currentVehicle[\"mileage\"] = row[7]  \n",
    "            myInventoryList.append(currentVehicle)  \n",
    "            lineCount += 1  \n",
    "    print(f'Processed {lineCount} lines.')\n",
    "    \n",
    "for myCarProperties in myInventoryList:\n",
    "    for key, value in myCarProperties.items():\n",
    "        print(\"{} : {}\".format(key,value))\n",
    "        print(\"-----\")"
   ]
  },
  {
   "cell_type": "code",
   "execution_count": 21,
   "id": "fc1c6ddf",
   "metadata": {},
   "outputs": [
    {
     "name": "stdout",
     "output_type": "stream",
     "text": [
      "Do you need to ship a package? (Enter yes or no) YES\n",
      "Please come back when you need to ship a package. Thank you.\n"
     ]
    }
   ],
   "source": [
    "valid_response=['yes','YES','Yes']\n",
    "\n",
    "userReply = input(\"Do you need to ship a package? (Enter yes or no) \")\n",
    "if userReply in valid_response:\n",
    "    print(\"We can help you ship that package!\")\n",
    "else:\n",
    "    print(\"Please come back when you need to ship a package. Thank you.\")"
   ]
  },
  {
   "cell_type": "code",
   "execution_count": 20,
   "id": "61a8d81c",
   "metadata": {},
   "outputs": [
    {
     "name": "stdout",
     "output_type": "stream",
     "text": [
      "Would you like to buy stamps, buy an envelope, or make a copy? (Enter stamps, envelope, or copy) yes\n",
      "Thank you, please come again.\n"
     ]
    }
   ],
   "source": [
    "userReply = input(\"Would you like to buy stamps, buy an envelope, or make a copy? (Enter stamps, envelope, or copy) \")\n",
    "if userReply == \"stamps\":\n",
    "    print(\"We have many stamp designs to choose from.\")\n",
    "elif userReply == \"envelope\":\n",
    "    print(\"We have many envelope sizes to choose from.\")\n",
    "elif userReply == \"copy\":\n",
    "    copies = input(\"How many copies would you like? (Enter a number) \")\n",
    "    print(\"Here are {} copies.\".format(copies))\n",
    "else:\n",
    "    print(\"Thank you, please come again.\")"
   ]
  },
  {
   "cell_type": "code",
   "execution_count": 33,
   "id": "21a25fa8",
   "metadata": {},
   "outputs": [
    {
     "name": "stdout",
     "output_type": "stream",
     "text": [
      "Welcome to Guess the Number!\n",
      "The rules are simple. I will think of a number, and you will try to guess it.\n",
      "Guess a number between 1 and 10: 3\n",
      "You guessed 3. Sorry, that isn’t it. Try again.\n",
      "Guess a number between 1 and 10: 5\n",
      "You guessed 5. Sorry, that isn’t it. Try again.\n",
      "Guess a number between 1 and 10: 6\n",
      "You guessed 6. Sorry, that isn’t it. Try again.\n",
      "Guess a number between 1 and 10: 8\n",
      "You guessed 8. Sorry, that isn’t it. Try again.\n",
      "Guess a number between 1 and 10: 9\n",
      "You guessed 9. Sorry, that isn’t it. Try again.\n",
      "Guess a number between 1 and 10: 10\n",
      "You guessed 10. Sorry, that isn’t it. Try again.\n",
      "Guess a number between 1 and 10: 1\n",
      "You guessed 1. Sorry, that isn’t it. Try again.\n",
      "Guess a number between 1 and 10: 2\n",
      "You guessed 2. That is correct! You win!\n"
     ]
    }
   ],
   "source": [
    "import random\n",
    "\n",
    "print(\"Welcome to Guess the Number!\")\n",
    "print(\"The rules are simple. I will think of a number, and you will try to guess it.\")\n",
    "number = random.randint(1,10)\n",
    "isGuessRight = False\n",
    "while isGuessRight != True:\n",
    "    guess = input(\"Guess a number between 1 and 10: \")\n",
    "    if int(guess) == number:\n",
    "        print(\"You guessed {}. That is correct! You win!\".format(guess))\n",
    "        isGuessRight = True\n",
    "    else:\n",
    "        print(\"You guessed {}. Sorry, that isn’t it. Try again.\".format(guess))"
   ]
  },
  {
   "cell_type": "code",
   "execution_count": 34,
   "id": "1a3e24c9",
   "metadata": {},
   "outputs": [
    {
     "name": "stdout",
     "output_type": "stream",
     "text": [
      "0\n",
      "1\n",
      "2\n",
      "3\n",
      "4\n",
      "5\n",
      "6\n",
      "7\n",
      "8\n",
      "9\n",
      "10\n"
     ]
    }
   ],
   "source": [
    "for x in range (0, 11):\n",
    "    print(x)"
   ]
  },
  {
   "cell_type": "code",
   "execution_count": null,
   "id": "391c23d2",
   "metadata": {},
   "outputs": [],
   "source": []
  }
 ],
 "metadata": {
  "kernelspec": {
   "display_name": "Python 3 (ipykernel)",
   "language": "python",
   "name": "python3"
  },
  "language_info": {
   "codemirror_mode": {
    "name": "ipython",
    "version": 3
   },
   "file_extension": ".py",
   "mimetype": "text/x-python",
   "name": "python",
   "nbconvert_exporter": "python",
   "pygments_lexer": "ipython3",
   "version": "3.9.7"
  }
 },
 "nbformat": 4,
 "nbformat_minor": 5
}
